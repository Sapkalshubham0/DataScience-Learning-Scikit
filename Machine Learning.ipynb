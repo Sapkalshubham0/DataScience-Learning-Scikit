{
 "cells": [
  {
   "cell_type": "code",
   "execution_count": 1,
   "metadata": {},
   "outputs": [
    {
     "ename": "SyntaxError",
     "evalue": "invalid syntax (<ipython-input-1-2665592f1c31>, line 1)",
     "output_type": "error",
     "traceback": [
      "\u001b[1;36m  File \u001b[1;32m\"<ipython-input-1-2665592f1c31>\"\u001b[1;36m, line \u001b[1;32m1\u001b[0m\n\u001b[1;33m    Machine Learning - 1) Supervised ML  - X`s and Y - Features\u001b[0m\n\u001b[1;37m                   ^\u001b[0m\n\u001b[1;31mSyntaxError\u001b[0m\u001b[1;31m:\u001b[0m invalid syntax\n"
     ]
    }
   ],
   "source": [
    "Machine Learning - 1) Supervised ML  - X`s and Y - Features\n",
    "                    2) Unsupervised ML - No Y all X`s - Segmentation - Market basket analysis\n",
    "                    3)Reinforcement learning - Games and Simulations\n",
    "\n",
    "\n"
   ]
  },
  {
   "cell_type": "code",
   "execution_count": null,
   "metadata": {},
   "outputs": [],
   "source": []
  },
  {
   "cell_type": "code",
   "execution_count": null,
   "metadata": {},
   "outputs": [],
   "source": [
    "Supervised ML\n",
    "1)Linear Regression (Galton)\n",
    "Y=f(x)\n",
    "\n",
    "Y=f(x1,x2,x3,xn)-Multiple Linear Regression\n",
    "\n",
    "OLS - Ordinary least square method\n",
    "The Ordinary least squares regression(Ols) technique estimates oefficients on the variable hypothesized to have an impact on the variable\n",
    "of interest by indentifying the line that minimizes the sum of squared differences between points on the estimated line and the actual values of independent variable\n",
    "-Coefficients :Betas\n",
    "\n",
    "\n",
    "A Regression is used to understand and quantify cause-effect relationship\n",
    "\n",
    "Regression analysis is a statistical technique used to infer the magnitude and direction of a possible causal relatioship between an observed pattern and variable assumed to have an impact on observed pattern\n",
    "\n"
   ]
  },
  {
   "cell_type": "code",
   "execution_count": 1,
   "metadata": {},
   "outputs": [
    {
     "ename": "SyntaxError",
     "evalue": "invalid syntax (<ipython-input-1-f0331ecc33d5>, line 1)",
     "output_type": "error",
     "traceback": [
      "\u001b[1;36m  File \u001b[1;32m\"<ipython-input-1-f0331ecc33d5>\"\u001b[1;36m, line \u001b[1;32m1\u001b[0m\n\u001b[1;33m    Multiple r - coefficient  correlation\u001b[0m\n\u001b[1;37m             ^\u001b[0m\n\u001b[1;31mSyntaxError\u001b[0m\u001b[1;31m:\u001b[0m invalid syntax\n"
     ]
    }
   ],
   "source": [
    "Multiple r - coefficient  correlation\n",
    "R Square -   coefficient of determination (R2 = 1-RSS/TSS)\n",
    "Adjusted R Square - "
   ]
  },
  {
   "cell_type": "code",
   "execution_count": null,
   "metadata": {},
   "outputs": [],
   "source": [
    "Linear Regression Assumptions\n",
    "1)Linearity y=f(x`s)\n",
    "2)Expectation of Errors E(e) | mean of error(e)=0\n",
    "3)E normal distribution N(i.i.d)\n",
    "4)Homoseedasticity - (Equal Variance)\n",
    "5)No multi collinearity (X1 <-> X2-> highly correlated) |V.I.F > 5\n",
    "6)No Auto Correlation \n",
    "7)Correctly specified\n",
    "\n",
    "\n",
    "\n"
   ]
  }
 ],
 "metadata": {
  "kernelspec": {
   "display_name": "Python 3",
   "language": "python",
   "name": "python3"
  },
  "language_info": {
   "codemirror_mode": {
    "name": "ipython",
    "version": 3
   },
   "file_extension": ".py",
   "mimetype": "text/x-python",
   "name": "python",
   "nbconvert_exporter": "python",
   "pygments_lexer": "ipython3",
   "version": "3.7.0"
  }
 },
 "nbformat": 4,
 "nbformat_minor": 2
}
